{
 "cells": [
  {
   "cell_type": "markdown",
   "id": "0d543731",
   "metadata": {},
   "source": [
    "# Petroleum and Natural Gas Upstream Simulation and Analysis\n",
    "## A Historical E&P Look at the Wasson Oil Field\n",
    "Project by John Stobba\n",
    "\n",
    "![petroleum_sim_analysis Title Image](images/petroleum_sim_analysis_title.jpg)"
   ]
  },
  {
   "cell_type": "markdown",
   "id": "695fdd67",
   "metadata": {},
   "source": [
    "### Executive Summary\n",
    "Write Here"
   ]
  },
  {
   "cell_type": "markdown",
   "id": "67bda59e",
   "metadata": {},
   "source": [
    "### Wasson Oil Field\n",
    "#### Discovery and History\n",
    "Write Here\n",
    "\n",
    "#### Geology\n",
    "Write Here\n",
    "\n",
    "#### Petrochemistry\n",
    "Write Here\n",
    "\n",
    "#### Production\n",
    "##### Primary\n",
    "Write Here\n",
    "\n",
    "##### Secondary - Water Flooding\n",
    "Write Here\n",
    "\n",
    "##### Tertiary - CO<sub>2</sub> Flooding\n",
    "Write Here"
   ]
  },
  {
   "cell_type": "markdown",
   "id": "385738de",
   "metadata": {},
   "source": [
    "### Petroleum and Natural Gas Upstream Simulation\n",
    "Write Here"
   ]
  },
  {
   "cell_type": "markdown",
   "id": "76410052",
   "metadata": {},
   "source": [
    "### Reservoir Analysis\n",
    "Write Here"
   ]
  },
  {
   "cell_type": "markdown",
   "id": "321e9401",
   "metadata": {},
   "source": [
    "### Drilling Analysis\n",
    "Write Here"
   ]
  },
  {
   "cell_type": "markdown",
   "id": "3bc71439",
   "metadata": {},
   "source": [
    "### Completion Analysis\n",
    "Write Here"
   ]
  },
  {
   "cell_type": "markdown",
   "id": "8cfd9e91",
   "metadata": {},
   "source": [
    "### Production Analysis\n",
    "#### Well Production\n",
    "Write Here\n",
    "\n",
    "#### Surface Production\n",
    "Write Here"
   ]
  },
  {
   "cell_type": "markdown",
   "id": "35a0352e",
   "metadata": {},
   "source": [
    "### Well Test Analysis\n",
    "Write Here"
   ]
  },
  {
   "cell_type": "markdown",
   "id": "4534bc19",
   "metadata": {},
   "source": [
    "### Economic Evaluation\n",
    "Write Here"
   ]
  },
  {
   "cell_type": "markdown",
   "id": "d5e18bc0",
   "metadata": {},
   "source": [
    "### References\n",
    "Write Here - Follow APA Format\n",
    "\n",
    "[APA Formatting and Style Guide (7th Edition) - Purdue OWL](https://owl.purdue.edu/owl/research_and_citation/apa_style/apa_formatting_and_style_guide/index.html)"
   ]
  }
 ],
 "metadata": {
  "kernelspec": {
   "display_name": "Python 3 (ipykernel)",
   "language": "python",
   "name": "python3"
  },
  "language_info": {
   "codemirror_mode": {
    "name": "ipython",
    "version": 3
   },
   "file_extension": ".py",
   "mimetype": "text/x-python",
   "name": "python",
   "nbconvert_exporter": "python",
   "pygments_lexer": "ipython3",
   "version": "3.9.12"
  }
 },
 "nbformat": 4,
 "nbformat_minor": 5
}
